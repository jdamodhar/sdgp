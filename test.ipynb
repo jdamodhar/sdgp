{
 "cells": [
  {
   "cell_type": "code",
   "execution_count": null,
   "metadata": {},
   "outputs": [],
   "source": [
    "import pandas as pd\n",
    "import numpy as np"
   ]
  },
  {
   "cell_type": "code",
   "execution_count": null,
   "metadata": {},
   "outputs": [],
   "source": [
    "\n",
    "df = pd.DataFrame()\n",
    "start_number = 0\n",
    "n=1000000000\n",
    "df['id'] = np.arange(start_number, start_number + n)"
   ]
  },
  {
   "cell_type": "code",
   "execution_count": 1,
   "metadata": {},
   "outputs": [],
   "source": [
    "import dask.dataframe as dd\n",
    "import pandas as pd\n",
    "import numpy as np\n",
    "df = pd.DataFrame()\n",
    "start_number = 0\n",
    "n = 100000000\n",
    "df['id'] = np.arange(start_number, start_number + n)\n",
    "\n",
    "ddf = dd.from_pandas(df, npartitions=10)"
   ]
  },
  {
   "cell_type": "code",
   "execution_count": 8,
   "metadata": {},
   "outputs": [],
   "source": [
    "import dask.dataframe as dd\n",
    "import pandas as pd\n",
    "import numpy as np\n",
    "\n",
    "df = pd.DataFrame()\n",
    "start_number = 0\n",
    "n = 100000000\n",
    "\n",
    "# create a Dask dataframe with a single column 'id'\n",
    "ddf = dd.from_array(np.arange(start_number, start_number + n), chunksize=100000)\n"
   ]
  },
  {
   "cell_type": "code",
   "execution_count": 1,
   "metadata": {},
   "outputs": [],
   "source": [
    "import pandas as pd\n",
    "import dask\n",
    "import dask.dataframe as dd\n",
    "from dask import delayed\n",
    "import numpy as np\n",
    "import random\n",
    "start = pd.to_datetime(\"2020-01-01\")\n",
    "end = pd.to_datetime(\"2021-02-01\")\n",
    "format = \"%Y-%m-%d\"\n",
    "import random"
   ]
  },
  {
   "cell_type": "code",
   "execution_count": 5,
   "metadata": {},
   "outputs": [],
   "source": [
    "\n",
    "n=100000\n",
    "\n",
    "@delayed\n",
    "def generate_date(start, end, format):\n",
    "    return (start + (end - start) * random.random()).strftime(str(format))\n",
    "\n",
    "dates = [generate_date(start, end, format) for _ in range(n)]\n",
    "computed_dates = dask.compute(*dates)"
   ]
  },
  {
   "cell_type": "code",
   "execution_count": 2,
   "metadata": {},
   "outputs": [],
   "source": [
    "import pandas as pd\n",
    "import dask\n",
    "import dask.dataframe as dd\n",
    "from dask import delayed\n",
    "import numpy as np\n",
    "import random\n",
    "start = pd.to_datetime(\"2020-01-01\")\n",
    "end = pd.to_datetime(\"2021-02-01\")\n",
    "format = \"%Y-%m-%d\"\n",
    "import random\n",
    "n=10000000\n",
    "\n",
    "@delayed\n",
    "def generate_date(start, end, format):\n",
    "    return (start + (end - start) * random.random()).strftime(str(format))\n",
    "\n",
    "dates = [generate_date(start, end, format) for _ in range(n)]\n",
    "ddf = dd.from_delayed(dates, npartitions=10000)"
   ]
  },
  {
   "cell_type": "code",
   "execution_count": 13,
   "metadata": {},
   "outputs": [
    {
     "ename": "KeyboardInterrupt",
     "evalue": "",
     "output_type": "error",
     "traceback": [
      "\u001b[1;31m---------------------------------------------------------------------------\u001b[0m",
      "\u001b[1;31mKeyboardInterrupt\u001b[0m                         Traceback (most recent call last)",
      "\u001b[1;32mc:\\Users\\jdamodhar\\Downloads\\synthetic-data-generator-plus\\test.ipynb Cell 5\u001b[0m line \u001b[0;36m7\n\u001b[0;32m      <a href='vscode-notebook-cell:/c%3A/Users/jdamodhar/Downloads/synthetic-data-generator-plus/test.ipynb#X12sZmlsZQ%3D%3D?line=3'>4</a>\u001b[0m \u001b[39mimport\u001b[39;00m \u001b[39mrandom\u001b[39;00m\n\u001b[0;32m      <a href='vscode-notebook-cell:/c%3A/Users/jdamodhar/Downloads/synthetic-data-generator-plus/test.ipynb#X12sZmlsZQ%3D%3D?line=4'>5</a>\u001b[0m dates \u001b[39m=\u001b[39m []\n\u001b[1;32m----> <a href='vscode-notebook-cell:/c%3A/Users/jdamodhar/Downloads/synthetic-data-generator-plus/test.ipynb#X12sZmlsZQ%3D%3D?line=6'>7</a>\u001b[0m ddd \u001b[39m=\u001b[39m dd\u001b[39m.\u001b[39mfrom_pandas([(start \u001b[39m+\u001b[39m (end \u001b[39m-\u001b[39m start) \u001b[39m*\u001b[39m random\u001b[39m.\u001b[39mrandom())\u001b[39m.\u001b[39mstrftime(\u001b[39mstr\u001b[39m(\u001b[39mformat\u001b[39m)) \u001b[39mfor\u001b[39;00m i \u001b[39min\u001b[39;00m \u001b[39mrange\u001b[39m(n)], npartitions\u001b[39m=\u001b[39m\u001b[39m10\u001b[39m)\n",
      "\u001b[1;32mc:\\Users\\jdamodhar\\Downloads\\synthetic-data-generator-plus\\test.ipynb Cell 5\u001b[0m line \u001b[0;36m7\n\u001b[0;32m      <a href='vscode-notebook-cell:/c%3A/Users/jdamodhar/Downloads/synthetic-data-generator-plus/test.ipynb#X12sZmlsZQ%3D%3D?line=3'>4</a>\u001b[0m \u001b[39mimport\u001b[39;00m \u001b[39mrandom\u001b[39;00m\n\u001b[0;32m      <a href='vscode-notebook-cell:/c%3A/Users/jdamodhar/Downloads/synthetic-data-generator-plus/test.ipynb#X12sZmlsZQ%3D%3D?line=4'>5</a>\u001b[0m dates \u001b[39m=\u001b[39m []\n\u001b[1;32m----> <a href='vscode-notebook-cell:/c%3A/Users/jdamodhar/Downloads/synthetic-data-generator-plus/test.ipynb#X12sZmlsZQ%3D%3D?line=6'>7</a>\u001b[0m ddd \u001b[39m=\u001b[39m dd\u001b[39m.\u001b[39mfrom_pandas([(start \u001b[39m+\u001b[39;49m (end \u001b[39m-\u001b[39;49m start) \u001b[39m*\u001b[39;49m random\u001b[39m.\u001b[39;49mrandom())\u001b[39m.\u001b[39;49mstrftime(\u001b[39mstr\u001b[39;49m(\u001b[39mformat\u001b[39;49m)) \u001b[39mfor\u001b[39;00m i \u001b[39min\u001b[39;00m \u001b[39mrange\u001b[39m(n)], npartitions\u001b[39m=\u001b[39m\u001b[39m10\u001b[39m)\n",
      "\u001b[1;31mKeyboardInterrupt\u001b[0m: "
     ]
    }
   ],
   "source": [
    "start = pd.to_datetime(\"2020-01-01\")\n",
    "end = pd.to_datetime(\"2021-02-01\")\n",
    "format = \"%Y-%m-%d\"\n",
    "import random\n",
    "dates = []\n",
    "dd = dd.from_pandas([(start + (end - start) * random.random()).strftime(str(format)) for _ in range(n)], npartitions=10)"
   ]
  },
  {
   "cell_type": "code",
   "execution_count": 10,
   "metadata": {},
   "outputs": [],
   "source": [
    "df['id']  =ddf.compute()"
   ]
  },
  {
   "cell_type": "code",
   "execution_count": null,
   "metadata": {},
   "outputs": [],
   "source": [
    "preDate, so, eo, format = \n",
    "pd.to_datetime(self.df_mock[preDate])\\\n",
    "                    .apply(lambda x: self.addRandomDuration(x, so, eo, format))"
   ]
  }
 ],
 "metadata": {
  "kernelspec": {
   "display_name": ".venv",
   "language": "python",
   "name": "python3"
  },
  "language_info": {
   "codemirror_mode": {
    "name": "ipython",
    "version": 3
   },
   "file_extension": ".py",
   "mimetype": "text/x-python",
   "name": "python",
   "nbconvert_exporter": "python",
   "pygments_lexer": "ipython3",
   "version": "3.10.5"
  },
  "orig_nbformat": 4
 },
 "nbformat": 4,
 "nbformat_minor": 2
}
